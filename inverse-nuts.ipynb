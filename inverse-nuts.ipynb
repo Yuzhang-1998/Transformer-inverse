{
 "cells": [
  {
   "cell_type": "code",
   "execution_count": 1,
   "id": "50c92010",
   "metadata": {},
   "outputs": [
    {
     "name": "stderr",
     "output_type": "stream",
     "text": [
      "2025-07-20 16:47:04.387049: I tensorflow/core/util/port.cc:153] oneDNN custom operations are on. You may see slightly different numerical results due to floating-point round-off errors from different computation orders. To turn them off, set the environment variable `TF_ENABLE_ONEDNN_OPTS=0`.\n",
      "2025-07-20 16:47:04.408004: E external/local_xla/xla/stream_executor/cuda/cuda_fft.cc:467] Unable to register cuFFT factory: Attempting to register factory for plugin cuFFT when one has already been registered\n",
      "WARNING: All log messages before absl::InitializeLog() is called are written to STDERR\n",
      "E0000 00:00:1753026424.428270  216498 cuda_dnn.cc:8579] Unable to register cuDNN factory: Attempting to register factory for plugin cuDNN when one has already been registered\n",
      "E0000 00:00:1753026424.434487  216498 cuda_blas.cc:1407] Unable to register cuBLAS factory: Attempting to register factory for plugin cuBLAS when one has already been registered\n",
      "W0000 00:00:1753026424.450279  216498 computation_placer.cc:177] computation placer already registered. Please check linkage and avoid linking the same target more than once.\n",
      "W0000 00:00:1753026424.450300  216498 computation_placer.cc:177] computation placer already registered. Please check linkage and avoid linking the same target more than once.\n",
      "W0000 00:00:1753026424.450302  216498 computation_placer.cc:177] computation placer already registered. Please check linkage and avoid linking the same target more than once.\n",
      "W0000 00:00:1753026424.450303  216498 computation_placer.cc:177] computation placer already registered. Please check linkage and avoid linking the same target more than once.\n",
      "2025-07-20 16:47:04.456891: I tensorflow/core/platform/cpu_feature_guard.cc:210] This TensorFlow binary is optimized to use available CPU instructions in performance-critical operations.\n",
      "To enable the following instructions: AVX2 AVX512F AVX512_VNNI FMA, in other operations, rebuild TensorFlow with the appropriate compiler flags.\n"
     ]
    }
   ],
   "source": [
    "from sklearn.metrics.pairwise import euclidean_distances \n",
    "import tensorflow as tf\n",
    "import numpy as np\n",
    "import tensorflow_probability as tfp\n",
    "import math\n",
    "import pickle \n",
    "from sklearn.preprocessing import StandardScaler\n",
    "\n",
    "file1 = open('X_beam.pkl', 'rb')\n",
    "file2 = open('Y_beam_2.pkl', 'rb')\n",
    "X1=pickle.load(file1)\n",
    "file1.close()\n",
    "Y=pickle.load(file2)\n",
    "file2.close()\n",
    "# X1= X1.astype(np.float64)  \n",
    "# Y= Y.astype(np.float64)    \n",
    "# Scale targets\n",
    "Y1=Y[:480,:]\n",
    "N, L, D = Y1.shape\n",
    "Y_flat = Y1.reshape(-1, D)\n",
    "scaler = StandardScaler().fit(Y_flat)\n",
    "Y1 = scaler.transform(Y_flat).reshape(N, L, D)\n",
    "X=X1[:480,:]"
   ]
  },
  {
   "cell_type": "code",
   "execution_count": 2,
   "id": "b83fc7f1",
   "metadata": {},
   "outputs": [
    {
     "data": {
      "text/plain": [
       "(231, 20)"
      ]
     },
     "execution_count": 2,
     "metadata": {},
     "output_type": "execute_result"
    }
   ],
   "source": [
    "Y2=scaler.transform(Y[480:,:].reshape(-1, D)).reshape(20, L, D)\n",
    "Y2[0].shape"
   ]
  },
  {
   "cell_type": "code",
   "execution_count": 3,
   "id": "4c6f152f",
   "metadata": {},
   "outputs": [
    {
     "name": "stderr",
     "output_type": "stream",
     "text": [
      "I0000 00:00:1753026439.156707  216498 gpu_device.cc:2019] Created device /job:localhost/replica:0/task:0/device:GPU:0 with 46478 MB memory:  -> device: 0, name: NVIDIA RTX A6000, pci bus id: 0000:3b:00.0, compute capability: 8.6\n"
     ]
    }
   ],
   "source": [
    "model=tf.keras.models.load_model('saved_model_2.keras')"
   ]
  },
  {
   "cell_type": "code",
   "execution_count": 4,
   "id": "08324077",
   "metadata": {},
   "outputs": [],
   "source": [
    "dtype=tf.float32\n",
    "\n",
    "\n",
    "tfd = tfp.distributions \n",
    "\n",
    "def LogLik(Xtst,Ytst,models,cov):\n",
    "    \n",
    "    pred=models(tf.expand_dims(Xtst, axis=0))\n",
    "    pred = tf.squeeze(pred, axis=0) \n",
    "#     scale = tf.linalg.cholesky(cov)\n",
    "#     loglik=tf.reduce_sum(tfd.MultivariateNormalTriL(loc=pred,scale_tril=scale).log_prob(Ytst))\n",
    "    loglik=tf.reduce_sum(tfd.Normal(loc=pred,scale=.1).log_prob(Ytst))\n",
    "    return loglik\n",
    "\n",
    "def PriorMaker(min,max):\n",
    "    def prior(a,b):\n",
    "        apr=tfd.Uniform(np.float32(min[0]),np.float32(max[0])).log_prob(a)\n",
    "        bpr=tfd.Uniform(np.float32(min[1]),np.float32(max[1])).log_prob(b)\n",
    "#         ppr=tfd.Uniform(np.float64(min[3]),np.float64(max[3])).log_prob(pre)\n",
    "        # sigpr=tfd.InverseGamma(np.float64(0.001),np.float64(0.001)).log_prob(sig)\n",
    "        return tf.reduce_sum(apr+bpr)\n",
    "    return prior\n",
    "\n",
    "\n",
    "def target(a,b,Ytst,fixed,cov,models,prior):\n",
    "#     A=tf.concat([a]*2,axis=0)\n",
    "#     B=tf.concat([b]*2,axis=0)\n",
    "#     C=tf.concat([c]*2,axis=0)\n",
    "#     D=tf.concat([d]*2,axis=0)\n",
    "# First, ensure they are all [1, 1] shaped:\n",
    "    a = tf.reshape(a, [1, 1])\n",
    "    b = tf.reshape(b, [1, 1])\n",
    "#     pre = tf.reshape(pre, [1, 1])\n",
    "\n",
    "    # Create a single tensor from these parameters:\n",
    "    params = tf.concat([a, b], axis=1)    # This should have shape [1, 2]\n",
    "    batch = tf.shape(fixed)[0]\n",
    "    params_tiled = tf.tile(params, [batch, 1])  # shape = [batch, 2]\n",
    "\n",
    "    # Now concatenate it with 'fixed':\n",
    "    x = tf.concat([fixed, params_tiled], axis=1)  # Concatenate along the second dimension\n",
    "    lik=LogLik(x,Ytst,models,cov)\n",
    "    pr=prior(a,b)\n",
    "    return tf.reduce_sum(lik)+pr"
   ]
  },
  {
   "cell_type": "code",
   "execution_count": 5,
   "id": "ec6598ac",
   "metadata": {},
   "outputs": [],
   "source": [
    "min=np.float32([4,4])\n",
    "max=np.float32([ 7,10])\n",
    "\n",
    "prior=PriorMaker(min,max)"
   ]
  },
  {
   "cell_type": "code",
   "execution_count": 6,
   "id": "f9251fea",
   "metadata": {},
   "outputs": [
    {
     "data": {
      "text/plain": [
       "(231, 2)"
      ]
     },
     "execution_count": 6,
     "metadata": {},
     "output_type": "execute_result"
    }
   ],
   "source": [
    "Fix=X1[480,:,:2]\n",
    "Fix.shape"
   ]
  },
  {
   "cell_type": "code",
   "execution_count": 7,
   "id": "7fd40e38",
   "metadata": {},
   "outputs": [
    {
     "data": {
      "text/plain": [
       "array([[ 4.70342832e-04,  4.70342832e-04,  4.70342832e-04, ...,\n",
       "         1.09573544e+00,  1.09573544e+00,  1.09573544e+00],\n",
       "       [-2.90982476e-01, -2.90982476e-01, -2.90982476e-01, ...,\n",
       "         1.06380245e+00,  1.06380245e+00,  1.06380245e+00],\n",
       "       [-5.36526295e-01, -5.36526295e-01, -5.36526295e-01, ...,\n",
       "         1.01156997e+00,  1.01156997e+00,  1.01156997e+00],\n",
       "       ...,\n",
       "       [ 1.88573817e+00,  1.88573817e+00,  1.88573817e+00, ...,\n",
       "        -1.22446544e+00, -1.22446544e+00, -1.22446544e+00],\n",
       "       [ 1.88653175e+00,  1.88653175e+00,  1.88653175e+00, ...,\n",
       "        -1.39002923e+00, -1.39002923e+00, -1.39002923e+00],\n",
       "       [ 1.88646948e+00,  1.88646948e+00,  1.88646948e+00, ...,\n",
       "        -1.55503556e+00, -1.55503556e+00, -1.55503556e+00]])"
      ]
     },
     "execution_count": 7,
     "metadata": {},
     "output_type": "execute_result"
    }
   ],
   "source": [
    "Y2[0]"
   ]
  },
  {
   "cell_type": "code",
   "execution_count": 8,
   "id": "60be75f3",
   "metadata": {},
   "outputs": [
    {
     "data": {
      "text/plain": [
       "<tf.Tensor: shape=(231, 20), dtype=float32, numpy=\n",
       "array([[-0.02197293, -0.01667315, -0.03753584, ...,  1.09769   ,\n",
       "         1.0869348 ,  1.0935947 ],\n",
       "       [-0.28244504, -0.27109364, -0.28994322, ...,  1.0603195 ,\n",
       "         1.0511209 ,  1.0674258 ],\n",
       "       [-0.5470733 , -0.5325681 , -0.55125374, ...,  1.0101151 ,\n",
       "         1.0012796 ,  1.0106198 ],\n",
       "       ...,\n",
       "       [ 1.885473  ,  1.8976963 ,  1.8984903 , ..., -1.2335683 ,\n",
       "        -1.224186  , -1.2341461 ],\n",
       "       [ 1.8729582 ,  1.8833783 ,  1.8840817 , ..., -1.4062493 ,\n",
       "        -1.3919083 , -1.3950614 ],\n",
       "       [ 1.8704047 ,  1.8763937 ,  1.878784  , ..., -1.5721686 ,\n",
       "        -1.5592045 , -1.5540975 ]], dtype=float32)>"
      ]
     },
     "execution_count": 8,
     "metadata": {},
     "output_type": "execute_result"
    }
   ],
   "source": [
    "tty=model(tf.expand_dims(X1[480],axis=0))\n",
    "tty[0]"
   ]
  },
  {
   "cell_type": "code",
   "execution_count": 9,
   "id": "73796dbb",
   "metadata": {},
   "outputs": [],
   "source": [
    "testy=Y2[0]\n",
    "cov=1\n",
    "\n",
    "Posterior=lambda a,b: target(a=a,b=b,Ytst=testy,fixed=Fix,cov=cov,models=model,prior=prior)\n",
    "def BijectionMaker(min,max,log):\n",
    "    bij=[]\n",
    "    if log:\n",
    "        for i in range(2):\n",
    "            bij.append(tfb.Chain([tfb.Log(),tfb.Sigmoid(low=min[i],high=max[i])]))\n",
    "    else:\n",
    "        for i in range(2):\n",
    "            bij.append(tfb.Shift(tf.cast(min[i],tf.float32))(tfb.Scale(tf.cast((max[i])-(min[i]),tf.float32))( tfb.Reciprocal()(\n",
    "                tfb.Shift(tf.cast(1.,tf.float32))(\n",
    "                  tfb.Exp()(\n",
    "                    tfb.Scale(tf.cast(-1.,tf.float32))))))))\n",
    "    # bij.append(tfb.Exp())\n",
    "    return bij"
   ]
  },
  {
   "cell_type": "code",
   "execution_count": 10,
   "id": "6fb00287",
   "metadata": {},
   "outputs": [],
   "source": [
    "tfb=tfp.bijectors\n",
    "bijector=BijectionMaker(min,max,0)\n",
    "\n",
    "def step_size_setter_fn(kernel_results, new_step_size):\n",
    "    pars=kernel_results.inner_results\n",
    "    pars=pars._replace(\n",
    "            step_size=new_step_size)\n",
    "    return kernel_results._replace(\n",
    "            inner_results=pars)\n",
    "\n",
    "\n",
    "def step_size_getter_fn(kernel_results):\n",
    "    return tf.cast(ss, dtype)# for ss in kernel_results.inner_results.step_size]\n",
    "\n",
    "\n",
    "def log_accept_prob_getter_fn(kernel_results):\n",
    "    return kernel_results.inner_results.log_accept_ratio\n",
    "\n",
    "def NutsAdaptiveKernel(FinalTarget,nburn,BIJ):\n",
    "    nuts=tfp.mcmc.NoUTurnSampler(\n",
    "    target_log_prob_fn=FinalTarget,\n",
    "    step_size=tf.cast(0.01,tf.float32),max_tree_depth=10)\n",
    "    TransNuts= tfp.mcmc.TransformedTransitionKernel(\n",
    "    inner_kernel=nuts,\n",
    "    bijector=BIJ)\n",
    "    return tfp.mcmc.DualAveragingStepSizeAdaptation(\n",
    "    TransNuts,\n",
    "    num_adaptation_steps=int(nburn*0.8),\n",
    "    step_size_setter_fn=lambda pkr, new_step_size: pkr._replace(\n",
    "            inner_results=pkr.inner_results._replace(step_size=new_step_size)),\n",
    "    step_size_getter_fn=lambda pkr: pkr.inner_results.step_size,\n",
    "    log_accept_prob_getter_fn=lambda pkr: pkr.inner_results.log_accept_ratio,\n",
    "    target_accept_prob=tf.cast(.9, dtype),\n",
    "    decay_rate=tf.cast(.75, dtype)\n",
    ")\n"
   ]
  },
  {
   "cell_type": "code",
   "execution_count": 11,
   "id": "ddffa926",
   "metadata": {},
   "outputs": [
    {
     "data": {
      "text/plain": [
       "[<tf.Variable 'Variable:0' shape=(1, 1) dtype=float32, numpy=array([[5.3553643]], dtype=float32)>,\n",
       " <tf.Variable 'Variable:0' shape=(1, 1) dtype=float32, numpy=array([[5.6881986]], dtype=float32)>]"
      ]
     },
     "execution_count": 11,
     "metadata": {},
     "output_type": "execute_result"
    }
   ],
   "source": [
    "nb=5000\n",
    "ns=5000\n",
    "# num_chains=2\n",
    "kernel=NutsAdaptiveKernel(Posterior,nb,bijector)\n",
    "IniState=[]\n",
    "for i in range(2):\n",
    "    IniState.append(tf.Variable(np.float32([[1]])))\n",
    "IniState[0].assign(np.random.uniform(4,7,[1,1]))\n",
    "IniState[1].assign(np.random.uniform(4,10,[1,1]))\n",
    "\n",
    "\n",
    "IniState"
   ]
  },
  {
   "cell_type": "code",
   "execution_count": 12,
   "id": "ae3ec0b1",
   "metadata": {},
   "outputs": [
    {
     "name": "stderr",
     "output_type": "stream",
     "text": [
      "WARNING: All log messages before absl::InitializeLog() is called are written to STDERR\n",
      "I0000 00:00:1753026473.775642  216498 service.cc:152] XLA service 0x558060258200 initialized for platform CUDA (this does not guarantee that XLA will be used). Devices:\n",
      "I0000 00:00:1753026473.775710  216498 service.cc:160]   StreamExecutor device (0): NVIDIA RTX A6000, Compute Capability 8.6\n",
      "2025-07-20 16:47:55.227694: I tensorflow/compiler/mlir/tensorflow/utils/dump_mlir_util.cc:269] disabling MLIR crash reproducer, set env var `MLIR_CRASH_REPRODUCER_DIRECTORY` to enable.\n",
      "2025-07-20 16:48:03.851763: W tensorflow/compiler/tf2xla/kernels/random_ops.cc:108] Warning: Using tf.random.uniform with XLA compilation will ignore seeds; consider using tf.random.stateless_uniform instead if reproducible behavior is desired. sanitize_seed/seed\n",
      "I0000 00:00:1753026495.797634  216498 cuda_dnn.cc:529] Loaded cuDNN version 90300\n",
      "2025-07-20 16:48:31.290555: I external/local_xla/xla/stream_executor/cuda/subprocess_compilation.cc:346] ptxas warning : Registers are spilled to local memory in function 'gemm_fusion_dot_3491', 428 bytes spill stores, 340 bytes spill loads\n",
      "\n",
      "2025-07-20 16:48:31.468389: I external/local_xla/xla/stream_executor/cuda/subprocess_compilation.cc:346] ptxas warning : Registers are spilled to local memory in function 'gemm_fusion_dot_3491', 416 bytes spill stores, 352 bytes spill loads\n",
      "\n",
      "2025-07-20 16:48:31.619228: I external/local_xla/xla/stream_executor/cuda/subprocess_compilation.cc:346] ptxas warning : Registers are spilled to local memory in function 'gemm_fusion_dot_1371', 120 bytes spill stores, 120 bytes spill loads\n",
      "\n",
      "2025-07-20 16:48:31.761390: I external/local_xla/xla/stream_executor/cuda/subprocess_compilation.cc:346] ptxas warning : Registers are spilled to local memory in function 'gemm_fusion_dot_3491', 432 bytes spill stores, 344 bytes spill loads\n",
      "\n",
      "2025-07-20 16:48:31.931940: I external/local_xla/xla/stream_executor/cuda/subprocess_compilation.cc:346] ptxas warning : Registers are spilled to local memory in function 'gemm_fusion_dot_3493', 4 bytes spill stores, 4 bytes spill loads\n",
      "\n",
      "2025-07-20 16:48:32.042212: I external/local_xla/xla/stream_executor/cuda/subprocess_compilation.cc:346] ptxas warning : Registers are spilled to local memory in function 'gemm_fusion_dot_3492', 696 bytes spill stores, 692 bytes spill loads\n",
      "\n",
      "2025-07-20 16:48:32.062047: I external/local_xla/xla/stream_executor/cuda/subprocess_compilation.cc:346] ptxas warning : Registers are spilled to local memory in function 'gemm_fusion_dot_3493', 52 bytes spill stores, 52 bytes spill loads\n",
      "\n",
      "2025-07-20 16:48:32.127805: I external/local_xla/xla/stream_executor/cuda/subprocess_compilation.cc:346] ptxas warning : Registers are spilled to local memory in function 'gemm_fusion_dot_3496_0', 144 bytes spill stores, 144 bytes spill loads\n",
      "\n",
      "2025-07-20 16:48:32.276189: I external/local_xla/xla/stream_executor/cuda/subprocess_compilation.cc:346] ptxas warning : Registers are spilled to local memory in function 'gemm_fusion_dot_3493', 132 bytes spill stores, 132 bytes spill loads\n",
      "\n",
      "2025-07-20 16:48:32.296023: I external/local_xla/xla/stream_executor/cuda/subprocess_compilation.cc:346] ptxas warning : Registers are spilled to local memory in function 'gemm_fusion_dot_3493_0', 372 bytes spill stores, 372 bytes spill loads\n",
      "\n",
      "2025-07-20 16:48:32.374546: I external/local_xla/xla/stream_executor/cuda/subprocess_compilation.cc:346] ptxas warning : Registers are spilled to local memory in function 'gemm_fusion_dot_3496_0', 108 bytes spill stores, 108 bytes spill loads\n",
      "\n",
      "2025-07-20 16:48:33.010645: I external/local_xla/xla/stream_executor/cuda/subprocess_compilation.cc:346] ptxas warning : Registers are spilled to local memory in function 'gemm_fusion_dot_3521_0', 144 bytes spill stores, 144 bytes spill loads\n",
      "\n",
      "2025-07-20 16:48:33.237090: I external/local_xla/xla/stream_executor/cuda/subprocess_compilation.cc:346] ptxas warning : Registers are spilled to local memory in function 'gemm_fusion_dot_3493', 636 bytes spill stores, 636 bytes spill loads\n",
      "\n",
      "2025-07-20 16:48:33.965976: I external/local_xla/xla/stream_executor/cuda/subprocess_compilation.cc:346] ptxas warning : Registers are spilled to local memory in function 'gemm_fusion_dot_3523', 184 bytes spill stores, 184 bytes spill loads\n",
      "\n",
      "2025-07-20 16:48:34.075141: I external/local_xla/xla/stream_executor/cuda/subprocess_compilation.cc:346] ptxas warning : Registers are spilled to local memory in function 'gemm_fusion_dot_3523', 628 bytes spill stores, 628 bytes spill loads\n",
      "\n",
      "2025-07-20 16:48:34.183417: I external/local_xla/xla/stream_executor/cuda/subprocess_compilation.cc:346] ptxas warning : Registers are spilled to local memory in function 'gemm_fusion_dot_3523', 676 bytes spill stores, 676 bytes spill loads\n",
      "\n",
      "2025-07-20 16:48:34.183503: I external/local_xla/xla/stream_executor/cuda/subprocess_compilation.cc:346] ptxas warning : Registers are spilled to local memory in function 'gemm_fusion_dot_3523', 192 bytes spill stores, 192 bytes spill loads\n",
      "\n",
      "2025-07-20 16:48:34.235679: I external/local_xla/xla/stream_executor/cuda/subprocess_compilation.cc:346] ptxas warning : Registers are spilled to local memory in function 'gemm_fusion_dot_3496', 16 bytes spill stores, 16 bytes spill loads\n",
      "\n",
      "2025-07-20 16:48:34.260148: I external/local_xla/xla/stream_executor/cuda/subprocess_compilation.cc:346] ptxas warning : Registers are spilled to local memory in function 'gemm_fusion_dot_3523_0', 8 bytes spill stores, 8 bytes spill loads\n",
      "\n",
      "2025-07-20 16:48:34.280614: I external/local_xla/xla/stream_executor/cuda/subprocess_compilation.cc:346] ptxas warning : Registers are spilled to local memory in function 'gemm_fusion_dot_3493', 376 bytes spill stores, 376 bytes spill loads\n",
      "\n",
      "2025-07-20 16:48:34.363195: I external/local_xla/xla/stream_executor/cuda/subprocess_compilation.cc:346] ptxas warning : Registers are spilled to local memory in function 'gemm_fusion_dot_3497', 428 bytes spill stores, 340 bytes spill loads\n",
      "\n",
      "2025-07-20 16:48:34.423022: I external/local_xla/xla/stream_executor/cuda/subprocess_compilation.cc:346] ptxas warning : Registers are spilled to local memory in function 'gemm_fusion_dot_3493', 756 bytes spill stores, 756 bytes spill loads\n",
      "\n",
      "2025-07-20 16:48:34.470810: I external/local_xla/xla/stream_executor/cuda/subprocess_compilation.cc:346] ptxas warning : Registers are spilled to local memory in function 'gemm_fusion_dot_3523', 472 bytes spill stores, 472 bytes spill loads\n",
      "\n",
      "2025-07-20 16:48:34.722699: I external/local_xla/xla/stream_executor/cuda/subprocess_compilation.cc:346] ptxas warning : Registers are spilled to local memory in function 'gemm_fusion_dot_3496', 116 bytes spill stores, 116 bytes spill loads\n",
      "\n",
      "2025-07-20 16:48:34.770687: I external/local_xla/xla/stream_executor/cuda/subprocess_compilation.cc:346] ptxas warning : Registers are spilled to local memory in function 'gemm_fusion_dot_3496', 64 bytes spill stores, 64 bytes spill loads\n",
      "\n",
      "2025-07-20 16:48:34.802946: I external/local_xla/xla/stream_executor/cuda/subprocess_compilation.cc:346] ptxas warning : Registers are spilled to local memory in function 'gemm_fusion_dot_3493', 964 bytes spill stores, 964 bytes spill loads\n",
      "\n",
      "2025-07-20 16:48:34.814145: I external/local_xla/xla/stream_executor/cuda/subprocess_compilation.cc:346] ptxas warning : Registers are spilled to local memory in function 'gemm_fusion_dot_1923', 200 bytes spill stores, 200 bytes spill loads\n",
      "\n",
      "2025-07-20 16:48:34.885282: I external/local_xla/xla/stream_executor/cuda/subprocess_compilation.cc:346] ptxas warning : Registers are spilled to local memory in function 'gemm_fusion_dot_3492', 196 bytes spill stores, 160 bytes spill loads\n",
      "\n",
      "2025-07-20 16:48:34.985066: I external/local_xla/xla/stream_executor/cuda/subprocess_compilation.cc:346] ptxas warning : Registers are spilled to local memory in function 'gemm_fusion_dot_1372', 400 bytes spill stores, 400 bytes spill loads\n",
      "\n",
      "2025-07-20 16:48:35.099648: I external/local_xla/xla/stream_executor/cuda/subprocess_compilation.cc:346] ptxas warning : Registers are spilled to local memory in function 'gemm_fusion_dot_3521', 132 bytes spill stores, 132 bytes spill loads\n",
      "\n",
      "2025-07-20 16:48:35.268371: I external/local_xla/xla/stream_executor/cuda/subprocess_compilation.cc:346] ptxas warning : Registers are spilled to local memory in function 'gemm_fusion_dot_3521', 1724 bytes spill stores, 1468 bytes spill loads\n",
      "\n",
      "2025-07-20 16:48:35.294887: I external/local_xla/xla/stream_executor/cuda/subprocess_compilation.cc:346] ptxas warning : Registers are spilled to local memory in function 'gemm_fusion_dot_3497', 432 bytes spill stores, 344 bytes spill loads\n",
      "\n",
      "2025-07-20 16:48:35.522143: I external/local_xla/xla/stream_executor/cuda/subprocess_compilation.cc:346] ptxas warning : Registers are spilled to local memory in function 'gemm_fusion_dot_3523', 24 bytes spill stores, 24 bytes spill loads\n",
      "\n",
      "2025-07-20 16:48:35.622526: I external/local_xla/xla/stream_executor/cuda/subprocess_compilation.cc:346] ptxas warning : Registers are spilled to local memory in function 'gemm_fusion_dot_3521_0', 372 bytes spill stores, 372 bytes spill loads\n",
      "\n",
      "2025-07-20 16:48:35.863236: I external/local_xla/xla/stream_executor/cuda/subprocess_compilation.cc:346] ptxas warning : Registers are spilled to local memory in function 'gemm_fusion_dot_1923', 844 bytes spill stores, 844 bytes spill loads\n",
      "\n",
      "2025-07-20 16:48:36.042037: I external/local_xla/xla/stream_executor/cuda/subprocess_compilation.cc:346] ptxas warning : Registers are spilled to local memory in function 'gemm_fusion_dot_3523', 112 bytes spill stores, 112 bytes spill loads\n",
      "\n",
      "2025-07-20 16:48:36.361554: I external/local_xla/xla/stream_executor/cuda/subprocess_compilation.cc:346] ptxas warning : Registers are spilled to local memory in function 'gemm_fusion_dot_3492', 140 bytes spill stores, 140 bytes spill loads\n",
      "\n",
      "2025-07-20 16:48:36.412022: I external/local_xla/xla/stream_executor/cuda/subprocess_compilation.cc:346] ptxas warning : Registers are spilled to local memory in function 'gemm_fusion_dot_3521', 964 bytes spill stores, 964 bytes spill loads\n",
      "\n",
      "2025-07-20 16:48:36.496562: I external/local_xla/xla/stream_executor/cuda/subprocess_compilation.cc:346] ptxas warning : Registers are spilled to local memory in function 'gemm_fusion_dot_1923', 56 bytes spill stores, 56 bytes spill loads\n",
      "\n",
      "2025-07-20 16:48:36.518241: I external/local_xla/xla/stream_executor/cuda/subprocess_compilation.cc:346] ptxas warning : Registers are spilled to local memory in function 'gemm_fusion_dot_1371', 200 bytes spill stores, 200 bytes spill loads\n",
      "\n",
      "2025-07-20 16:48:36.522862: I external/local_xla/xla/stream_executor/cuda/subprocess_compilation.cc:346] ptxas warning : Registers are spilled to local memory in function 'gemm_fusion_dot_3497', 416 bytes spill stores, 352 bytes spill loads\n",
      "\n",
      "2025-07-20 16:48:36.653094: I external/local_xla/xla/stream_executor/cuda/subprocess_compilation.cc:346] ptxas warning : Registers are spilled to local memory in function 'gemm_fusion_dot_3521', 4 bytes spill stores, 4 bytes spill loads\n",
      "\n",
      "2025-07-20 16:48:36.666937: I external/local_xla/xla/stream_executor/cuda/subprocess_compilation.cc:346] ptxas warning : Registers are spilled to local memory in function 'gemm_fusion_dot_3521', 756 bytes spill stores, 756 bytes spill loads\n",
      "\n",
      "2025-07-20 16:48:36.876755: I external/local_xla/xla/stream_executor/cuda/subprocess_compilation.cc:346] ptxas warning : Registers are spilled to local memory in function 'gemm_fusion_dot_3496', 4 bytes spill stores, 4 bytes spill loads\n",
      "\n",
      "2025-07-20 16:48:36.925467: I external/local_xla/xla/stream_executor/cuda/subprocess_compilation.cc:346] ptxas warning : Registers are spilled to local memory in function 'gemm_fusion_dot_3523', 532 bytes spill stores, 532 bytes spill loads\n",
      "\n",
      "2025-07-20 16:48:37.005807: I external/local_xla/xla/stream_executor/cuda/subprocess_compilation.cc:346] ptxas warning : Registers are spilled to local memory in function 'gemm_fusion_dot_3493', 1716 bytes spill stores, 1460 bytes spill loads\n",
      "\n",
      "2025-07-20 16:48:37.318816: I external/local_xla/xla/stream_executor/cuda/subprocess_compilation.cc:346] ptxas warning : Registers are spilled to local memory in function 'gemm_fusion_dot_1923', 696 bytes spill stores, 696 bytes spill loads\n",
      "\n",
      "2025-07-20 16:48:37.441331: I external/local_xla/xla/stream_executor/cuda/subprocess_compilation.cc:346] ptxas warning : Registers are spilled to local memory in function 'gemm_fusion_dot_1920', 316 bytes spill stores, 316 bytes spill loads\n",
      "\n",
      "2025-07-20 16:48:37.441384: I external/local_xla/xla/stream_executor/cuda/subprocess_compilation.cc:346] ptxas warning : Registers are spilled to local memory in function 'gemm_fusion_dot_3493_0', 348 bytes spill stores, 352 bytes spill loads\n",
      "\n",
      "2025-07-20 16:48:37.456636: I external/local_xla/xla/stream_executor/cuda/subprocess_compilation.cc:346] ptxas warning : Registers are spilled to local memory in function 'gemm_fusion_dot_3521', 52 bytes spill stores, 52 bytes spill loads\n",
      "\n",
      "2025-07-20 16:48:38.105103: I external/local_xla/xla/stream_executor/cuda/subprocess_compilation.cc:346] ptxas warning : Registers are spilled to local memory in function 'gemm_fusion_dot_1920', 156 bytes spill stores, 156 bytes spill loads\n",
      "\n",
      "2025-07-20 16:48:38.172115: I external/local_xla/xla/stream_executor/cuda/subprocess_compilation.cc:346] ptxas warning : Registers are spilled to local memory in function 'gemm_fusion_dot_1372_0', 384 bytes spill stores, 384 bytes spill loads\n",
      "\n",
      "2025-07-20 16:48:38.198298: I external/local_xla/xla/stream_executor/cuda/subprocess_compilation.cc:346] ptxas warning : Registers are spilled to local memory in function 'gemm_fusion_dot_1921_0', 276 bytes spill stores, 276 bytes spill loads\n",
      "\n",
      "2025-07-20 16:48:38.389064: I external/local_xla/xla/stream_executor/cuda/subprocess_compilation.cc:346] ptxas warning : Registers are spilled to local memory in function 'gemm_fusion_dot_3521', 636 bytes spill stores, 636 bytes spill loads\n",
      "\n",
      "2025-07-20 16:48:38.476245: I external/local_xla/xla/stream_executor/cuda/subprocess_compilation.cc:346] ptxas warning : Registers are spilled to local memory in function 'gemm_fusion_dot_79_0', 144 bytes spill stores, 144 bytes spill loads\n",
      "\n",
      "2025-07-20 16:48:38.845263: I external/local_xla/xla/stream_executor/cuda/subprocess_compilation.cc:346] ptxas warning : Registers are spilled to local memory in function 'gemm_fusion_dot_1921', 412 bytes spill stores, 412 bytes spill loads\n",
      "\n",
      "2025-07-20 16:48:39.031060: I external/local_xla/xla/stream_executor/cuda/subprocess_compilation.cc:346] ptxas warning : Registers are spilled to local memory in function 'gemm_fusion_dot_1921', 984 bytes spill stores, 984 bytes spill loads\n",
      "\n",
      "2025-07-20 16:48:39.058751: I external/local_xla/xla/stream_executor/cuda/subprocess_compilation.cc:346] ptxas warning : Registers are spilled to local memory in function 'gemm_fusion_dot_3523', 3528 bytes spill stores, 3536 bytes spill loads\n",
      "\n",
      "2025-07-20 16:48:39.114678: I external/local_xla/xla/stream_executor/cuda/subprocess_compilation.cc:346] ptxas warning : Registers are spilled to local memory in function 'gemm_fusion_dot_1372', 780 bytes spill stores, 780 bytes spill loads\n",
      "\n",
      "2025-07-20 16:48:39.196470: I external/local_xla/xla/stream_executor/cuda/subprocess_compilation.cc:346] ptxas warning : Registers are spilled to local memory in function 'gemm_fusion_dot_3493', 368 bytes spill stores, 368 bytes spill loads\n",
      "\n",
      "2025-07-20 16:48:39.356866: I external/local_xla/xla/stream_executor/cuda/subprocess_compilation.cc:346] ptxas warning : Registers are spilled to local memory in function 'gemm_fusion_dot_1921', 148 bytes spill stores, 148 bytes spill loads\n",
      "\n",
      "2025-07-20 16:48:39.419013: I external/local_xla/xla/stream_executor/cuda/subprocess_compilation.cc:346] ptxas warning : Registers are spilled to local memory in function 'gemm_fusion_dot_1372', 980 bytes spill stores, 980 bytes spill loads\n",
      "\n",
      "2025-07-20 16:48:39.539087: I external/local_xla/xla/stream_executor/cuda/subprocess_compilation.cc:346] ptxas warning : Registers are spilled to local memory in function 'gemm_fusion_dot_1371', 8 bytes spill stores, 8 bytes spill loads\n",
      "\n",
      "2025-07-20 16:48:39.551280: I external/local_xla/xla/stream_executor/cuda/subprocess_compilation.cc:346] ptxas warning : Registers are spilled to local memory in function 'gemm_fusion_dot_1372', 2564 bytes spill stores, 2100 bytes spill loads\n",
      "\n",
      "2025-07-20 16:48:39.578709: I external/local_xla/xla/stream_executor/cuda/subprocess_compilation.cc:346] ptxas warning : Registers are spilled to local memory in function 'gemm_fusion_dot_79', 128 bytes spill stores, 128 bytes spill loads\n",
      "\n",
      "2025-07-20 16:48:39.791292: I external/local_xla/xla/stream_executor/cuda/subprocess_compilation.cc:346] ptxas warning : Registers are spilled to local memory in function 'gemm_fusion_dot_1372', 68 bytes spill stores, 68 bytes spill loads\n",
      "\n",
      "2025-07-20 16:48:39.807749: I external/local_xla/xla/stream_executor/cuda/subprocess_compilation.cc:346] ptxas warning : Registers are spilled to local memory in function 'gemm_fusion_dot_1372', 388 bytes spill stores, 388 bytes spill loads\n",
      "\n",
      "2025-07-20 16:48:39.818937: I external/local_xla/xla/stream_executor/cuda/subprocess_compilation.cc:346] ptxas warning : Registers are spilled to local memory in function 'gemm_fusion_dot_1921', 400 bytes spill stores, 400 bytes spill loads\n",
      "\n",
      "2025-07-20 16:48:39.905754: I external/local_xla/xla/stream_executor/cuda/subprocess_compilation.cc:346] ptxas warning : Registers are spilled to local memory in function 'gemm_fusion_dot_1921', 20 bytes spill stores, 20 bytes spill loads\n",
      "\n",
      "2025-07-20 16:48:40.301519: I external/local_xla/xla/stream_executor/cuda/subprocess_compilation.cc:346] ptxas warning : Registers are spilled to local memory in function 'gemm_fusion_dot_1921', 2592 bytes spill stores, 2128 bytes spill loads\n",
      "\n",
      "2025-07-20 16:48:40.649941: I external/local_xla/xla/stream_executor/cuda/subprocess_compilation.cc:346] ptxas warning : Registers are spilled to local memory in function 'gemm_fusion_dot_1923', 32 bytes spill stores, 32 bytes spill loads\n",
      "\n",
      "2025-07-20 16:48:40.677117: I external/local_xla/xla/stream_executor/cuda/subprocess_compilation.cc:346] ptxas warning : Registers are spilled to local memory in function 'gemm_fusion_dot_1923', 124 bytes spill stores, 124 bytes spill loads\n",
      "\n",
      "2025-07-20 16:48:40.677619: I external/local_xla/xla/stream_executor/cuda/subprocess_compilation.cc:346] ptxas warning : Registers are spilled to local memory in function 'gemm_fusion_dot_1921', 644 bytes spill stores, 644 bytes spill loads\n",
      "\n",
      "2025-07-20 16:48:40.705113: I external/local_xla/xla/stream_executor/cuda/subprocess_compilation.cc:346] ptxas warning : Registers are spilled to local memory in function 'gemm_fusion_dot_1372', 24 bytes spill stores, 24 bytes spill loads\n",
      "\n",
      "2025-07-20 16:48:41.481805: I external/local_xla/xla/stream_executor/cuda/subprocess_compilation.cc:346] ptxas warning : Registers are spilled to local memory in function 'gemm_fusion_dot_79_0', 128 bytes spill stores, 128 bytes spill loads\n",
      "\n",
      "2025-07-20 16:48:42.344361: I external/local_xla/xla/stream_executor/cuda/subprocess_compilation.cc:346] ptxas warning : Registers are spilled to local memory in function 'gemm_fusion_dot_3523_0', 500 bytes spill stores, 500 bytes spill loads\n",
      "\n",
      "2025-07-20 16:48:42.344415: I external/local_xla/xla/stream_executor/cuda/subprocess_compilation.cc:346] ptxas warning : Registers are spilled to local memory in function 'gemm_fusion_dot_1923_0', 228 bytes spill stores, 228 bytes spill loads\n",
      "\n",
      "2025-07-20 16:48:42.364140: I external/local_xla/xla/stream_executor/cuda/subprocess_compilation.cc:346] ptxas warning : Registers are spilled to local memory in function 'gemm_fusion_dot_1921', 68 bytes spill stores, 68 bytes spill loads\n",
      "\n",
      "2025-07-20 16:48:42.412427: I external/local_xla/xla/stream_executor/cuda/subprocess_compilation.cc:346] ptxas warning : Registers are spilled to local memory in function 'gemm_fusion_dot_1372', 148 bytes spill stores, 148 bytes spill loads\n",
      "\n",
      "2025-07-20 16:48:42.567838: I external/local_xla/xla/stream_executor/cuda/subprocess_compilation.cc:346] ptxas warning : Registers are spilled to local memory in function 'gemm_fusion_dot_1921', 8 bytes spill stores, 8 bytes spill loads\n",
      "\n",
      "2025-07-20 16:48:42.943730: I external/local_xla/xla/stream_executor/cuda/subprocess_compilation.cc:346] ptxas warning : Registers are spilled to local memory in function 'gemm_fusion_dot_3523', 848 bytes spill stores, 848 bytes spill loads\n",
      "\n",
      "2025-07-20 16:48:42.994058: I external/local_xla/xla/stream_executor/cuda/subprocess_compilation.cc:346] ptxas warning : Registers are spilled to local memory in function 'gemm_fusion_dot_1923_0', 516 bytes spill stores, 516 bytes spill loads\n",
      "\n",
      "2025-07-20 16:48:43.080706: I external/local_xla/xla/stream_executor/cuda/subprocess_compilation.cc:346] ptxas warning : Registers are spilled to local memory in function 'gemm_fusion_dot_3521', 380 bytes spill stores, 380 bytes spill loads\n",
      "\n",
      "2025-07-20 16:48:43.137912: I external/local_xla/xla/stream_executor/cuda/subprocess_compilation.cc:346] ptxas warning : Registers are spilled to local memory in function 'gemm_fusion_dot_1372_0', 352 bytes spill stores, 356 bytes spill loads\n",
      "\n",
      "2025-07-20 16:48:43.161974: I external/local_xla/xla/stream_executor/cuda/subprocess_compilation.cc:346] ptxas warning : Registers are spilled to local memory in function 'gemm_fusion_dot_1372', 8 bytes spill stores, 8 bytes spill loads\n",
      "\n",
      "2025-07-20 16:48:43.361058: I external/local_xla/xla/stream_executor/cuda/subprocess_compilation.cc:346] ptxas warning : Registers are spilled to local memory in function 'gemm_fusion_dot_3521', 368 bytes spill stores, 368 bytes spill loads\n",
      "\n",
      "2025-07-20 16:48:43.455105: I external/local_xla/xla/stream_executor/cuda/subprocess_compilation.cc:346] ptxas warning : Registers are spilled to local memory in function 'gemm_fusion_dot_1921_0', 384 bytes spill stores, 384 bytes spill loads\n",
      "\n",
      "2025-07-20 16:48:43.498860: I external/local_xla/xla/stream_executor/cuda/subprocess_compilation.cc:346] ptxas warning : Registers are spilled to local memory in function 'gemm_fusion_dot_1923', 220 bytes spill stores, 220 bytes spill loads\n",
      "\n",
      "2025-07-20 16:48:43.639971: I external/local_xla/xla/stream_executor/cuda/subprocess_compilation.cc:346] ptxas warning : Registers are spilled to local memory in function 'gemm_fusion_dot_1923', 548 bytes spill stores, 548 bytes spill loads\n",
      "\n",
      "2025-07-20 16:48:43.795614: I external/local_xla/xla/stream_executor/cuda/subprocess_compilation.cc:346] ptxas warning : Registers are spilled to local memory in function 'gemm_fusion_dot_1372', 644 bytes spill stores, 644 bytes spill loads\n",
      "\n",
      "2025-07-20 16:48:43.795662: I external/local_xla/xla/stream_executor/cuda/subprocess_compilation.cc:346] ptxas warning : Registers are spilled to local memory in function 'gemm_fusion_dot_1921', 780 bytes spill stores, 780 bytes spill loads\n",
      "\n",
      "2025-07-20 16:48:43.891447: I external/local_xla/xla/stream_executor/cuda/subprocess_compilation.cc:346] ptxas warning : Registers are spilled to local memory in function 'gemm_fusion_dot_1923', 480 bytes spill stores, 480 bytes spill loads\n",
      "\n",
      "2025-07-20 16:48:43.893695: I external/local_xla/xla/stream_executor/cuda/subprocess_compilation.cc:346] ptxas warning : Registers are spilled to local memory in function 'gemm_fusion_dot_1371', 204 bytes spill stores, 204 bytes spill loads\n",
      "\n",
      "2025-07-20 16:48:43.893720: I external/local_xla/xla/stream_executor/cuda/subprocess_compilation.cc:346] ptxas warning : Registers are spilled to local memory in function 'gemm_fusion_dot_1923', 628 bytes spill stores, 628 bytes spill loads\n",
      "\n",
      "2025-07-20 16:48:44.537899: I external/local_xla/xla/stream_executor/cuda/subprocess_compilation.cc:346] ptxas warning : Registers are spilled to local memory in function 'gemm_fusion_dot_1923', 3652 bytes spill stores, 3660 bytes spill loads\n",
      "\n",
      "I0000 00:00:1753026576.641606  216498 device_compiler.h:188] Compiled cluster using XLA!  This line is logged at most once for the lifetime of the process.\n"
     ]
    },
    {
     "name": "stdout",
     "output_type": "stream",
     "text": [
      "(2, 10000, 1, 1)\n"
     ]
    }
   ],
   "source": [
    "@tf.function(experimental_compile=True)\n",
    "def RunNuts(kern,init_state,nburn,nsamp):\n",
    "    return tfp.mcmc.sample_chain(\n",
    "    num_results=nsamp+nburn,\n",
    "    num_burnin_steps=5000,\n",
    "    current_state=init_state,\n",
    "    trace_fn=None,\n",
    "    kernel=kern\n",
    "    )\n",
    "\n",
    "states=RunNuts(kernel,IniState,nb,ns)\n",
    "print(np.array(states).shape)"
   ]
  },
  {
   "cell_type": "code",
   "execution_count": 14,
   "id": "29a4efb8",
   "metadata": {},
   "outputs": [
    {
     "data": {
      "text/plain": [
       "np.float32(8.929399)"
      ]
     },
     "execution_count": 14,
     "metadata": {},
     "output_type": "execute_result"
    }
   ],
   "source": [
    "np.mean(states[1])"
   ]
  },
  {
   "cell_type": "code",
   "execution_count": 100,
   "id": "1efd91e8",
   "metadata": {},
   "outputs": [
    {
     "data": {
      "text/plain": [
       "array([6.52312895, 8.98471206])"
      ]
     },
     "execution_count": 100,
     "metadata": {},
     "output_type": "execute_result"
    }
   ],
   "source": [
    "X1[480,0,2:]"
   ]
  }
 ],
 "metadata": {
  "kernelspec": {
   "display_name": "tf_gpu_env",
   "language": "python",
   "name": "python3"
  },
  "language_info": {
   "codemirror_mode": {
    "name": "ipython",
    "version": 3
   },
   "file_extension": ".py",
   "mimetype": "text/x-python",
   "name": "python",
   "nbconvert_exporter": "python",
   "pygments_lexer": "ipython3",
   "version": "3.10.16"
  }
 },
 "nbformat": 4,
 "nbformat_minor": 5
}
